{
 "cells": [
  {
   "cell_type": "code",
   "execution_count": 4,
   "id": "junior-donna",
   "metadata": {
    "execution": {
     "iopub.execute_input": "2021-05-05T04:13:54.667493Z",
     "iopub.status.busy": "2021-05-05T04:13:54.665710Z",
     "iopub.status.idle": "2021-05-05T04:13:56.775718Z",
     "shell.execute_reply": "2021-05-05T04:13:56.776295Z"
    },
    "papermill": {
     "duration": 2.158873,
     "end_time": "2021-05-05T04:13:56.776624",
     "exception": false,
     "start_time": "2021-05-05T04:13:54.617751",
     "status": "completed"
    },
    "tags": []
   },
   "outputs": [],
   "source": [
    "import numpy as np\n",
    "import pandas as pd\n",
    "import re\n",
    "import nltk\n",
    "import spacy"
   ]
  },
  {
   "cell_type": "code",
   "execution_count": 5,
   "id": "promising-prompt",
   "metadata": {
    "execution": {
     "iopub.execute_input": "2021-05-05T04:13:56.960374Z",
     "iopub.status.busy": "2021-05-05T04:13:56.959390Z",
     "iopub.status.idle": "2021-05-05T04:13:57.074921Z",
     "shell.execute_reply": "2021-05-05T04:13:57.075486Z"
    },
    "papermill": {
     "duration": 0.165484,
     "end_time": "2021-05-05T04:13:57.075678",
     "exception": false,
     "start_time": "2021-05-05T04:13:56.910194",
     "status": "completed"
    },
    "tags": []
   },
   "outputs": [],
   "source": [
    "train_data = pd.read_csv('train.csv')\n",
    "test_data = pd.read_csv('test.csv')"
   ]
  },
  {
   "cell_type": "code",
   "execution_count": 6,
   "id": "congressional-perception",
   "metadata": {
    "execution": {
     "iopub.execute_input": "2021-05-05T04:13:57.171791Z",
     "iopub.status.busy": "2021-05-05T04:13:57.170806Z",
     "iopub.status.idle": "2021-05-05T04:13:57.201198Z",
     "shell.execute_reply": "2021-05-05T04:13:57.201738Z"
    },
    "papermill": {
     "duration": 0.080906,
     "end_time": "2021-05-05T04:13:57.201905",
     "exception": false,
     "start_time": "2021-05-05T04:13:57.120999",
     "status": "completed"
    },
    "tags": []
   },
   "outputs": [
    {
     "data": {
      "text/html": [
       "<div>\n",
       "<style scoped>\n",
       "    .dataframe tbody tr th:only-of-type {\n",
       "        vertical-align: middle;\n",
       "    }\n",
       "\n",
       "    .dataframe tbody tr th {\n",
       "        vertical-align: top;\n",
       "    }\n",
       "\n",
       "    .dataframe thead th {\n",
       "        text-align: right;\n",
       "    }\n",
       "</style>\n",
       "<table border=\"1\" class=\"dataframe\">\n",
       "  <thead>\n",
       "    <tr style=\"text-align: right;\">\n",
       "      <th></th>\n",
       "      <th>id</th>\n",
       "      <th>url_legal</th>\n",
       "      <th>license</th>\n",
       "      <th>excerpt</th>\n",
       "      <th>target</th>\n",
       "      <th>standard_error</th>\n",
       "    </tr>\n",
       "  </thead>\n",
       "  <tbody>\n",
       "    <tr>\n",
       "      <th>0</th>\n",
       "      <td>c12129c31</td>\n",
       "      <td>NaN</td>\n",
       "      <td>NaN</td>\n",
       "      <td>When the young people returned to the ballroom...</td>\n",
       "      <td>-0.340259</td>\n",
       "      <td>0.464009</td>\n",
       "    </tr>\n",
       "    <tr>\n",
       "      <th>1</th>\n",
       "      <td>85aa80a4c</td>\n",
       "      <td>NaN</td>\n",
       "      <td>NaN</td>\n",
       "      <td>All through dinner time, Mrs. Fayre was somewh...</td>\n",
       "      <td>-0.315372</td>\n",
       "      <td>0.480805</td>\n",
       "    </tr>\n",
       "    <tr>\n",
       "      <th>2</th>\n",
       "      <td>b69ac6792</td>\n",
       "      <td>NaN</td>\n",
       "      <td>NaN</td>\n",
       "      <td>As Roger had predicted, the snow departed as q...</td>\n",
       "      <td>-0.580118</td>\n",
       "      <td>0.476676</td>\n",
       "    </tr>\n",
       "    <tr>\n",
       "      <th>3</th>\n",
       "      <td>dd1000b26</td>\n",
       "      <td>NaN</td>\n",
       "      <td>NaN</td>\n",
       "      <td>And outside before the palace a great garden w...</td>\n",
       "      <td>-1.054013</td>\n",
       "      <td>0.450007</td>\n",
       "    </tr>\n",
       "    <tr>\n",
       "      <th>4</th>\n",
       "      <td>37c1b32fb</td>\n",
       "      <td>NaN</td>\n",
       "      <td>NaN</td>\n",
       "      <td>Once upon a time there were Three Bears who li...</td>\n",
       "      <td>0.247197</td>\n",
       "      <td>0.510845</td>\n",
       "    </tr>\n",
       "  </tbody>\n",
       "</table>\n",
       "</div>"
      ],
      "text/plain": [
       "          id url_legal license  \\\n",
       "0  c12129c31       NaN     NaN   \n",
       "1  85aa80a4c       NaN     NaN   \n",
       "2  b69ac6792       NaN     NaN   \n",
       "3  dd1000b26       NaN     NaN   \n",
       "4  37c1b32fb       NaN     NaN   \n",
       "\n",
       "                                             excerpt    target  standard_error  \n",
       "0  When the young people returned to the ballroom... -0.340259        0.464009  \n",
       "1  All through dinner time, Mrs. Fayre was somewh... -0.315372        0.480805  \n",
       "2  As Roger had predicted, the snow departed as q... -0.580118        0.476676  \n",
       "3  And outside before the palace a great garden w... -1.054013        0.450007  \n",
       "4  Once upon a time there were Three Bears who li...  0.247197        0.510845  "
      ]
     },
     "execution_count": 6,
     "metadata": {},
     "output_type": "execute_result"
    }
   ],
   "source": [
    "train_data.head()"
   ]
  },
  {
   "cell_type": "code",
   "execution_count": 7,
   "id": "statewide-israel",
   "metadata": {
    "execution": {
     "iopub.execute_input": "2021-05-05T04:13:57.296263Z",
     "iopub.status.busy": "2021-05-05T04:13:57.295276Z",
     "iopub.status.idle": "2021-05-05T04:13:57.307529Z",
     "shell.execute_reply": "2021-05-05T04:13:57.308046Z"
    },
    "papermill": {
     "duration": 0.060853,
     "end_time": "2021-05-05T04:13:57.308240",
     "exception": false,
     "start_time": "2021-05-05T04:13:57.247387",
     "status": "completed"
    },
    "tags": []
   },
   "outputs": [
    {
     "data": {
      "text/html": [
       "<div>\n",
       "<style scoped>\n",
       "    .dataframe tbody tr th:only-of-type {\n",
       "        vertical-align: middle;\n",
       "    }\n",
       "\n",
       "    .dataframe tbody tr th {\n",
       "        vertical-align: top;\n",
       "    }\n",
       "\n",
       "    .dataframe thead th {\n",
       "        text-align: right;\n",
       "    }\n",
       "</style>\n",
       "<table border=\"1\" class=\"dataframe\">\n",
       "  <thead>\n",
       "    <tr style=\"text-align: right;\">\n",
       "      <th></th>\n",
       "      <th>id</th>\n",
       "      <th>url_legal</th>\n",
       "      <th>license</th>\n",
       "      <th>excerpt</th>\n",
       "    </tr>\n",
       "  </thead>\n",
       "  <tbody>\n",
       "    <tr>\n",
       "      <th>0</th>\n",
       "      <td>c0f722661</td>\n",
       "      <td>NaN</td>\n",
       "      <td>NaN</td>\n",
       "      <td>My hope lay in Jack's promise that he would ke...</td>\n",
       "    </tr>\n",
       "    <tr>\n",
       "      <th>1</th>\n",
       "      <td>f0953f0a5</td>\n",
       "      <td>NaN</td>\n",
       "      <td>NaN</td>\n",
       "      <td>Dotty continued to go to Mrs. Gray's every nig...</td>\n",
       "    </tr>\n",
       "    <tr>\n",
       "      <th>2</th>\n",
       "      <td>0df072751</td>\n",
       "      <td>NaN</td>\n",
       "      <td>NaN</td>\n",
       "      <td>It was a bright and cheerful scene that greete...</td>\n",
       "    </tr>\n",
       "    <tr>\n",
       "      <th>3</th>\n",
       "      <td>04caf4e0c</td>\n",
       "      <td>https://en.wikipedia.org/wiki/Cell_division</td>\n",
       "      <td>CC BY-SA 3.0</td>\n",
       "      <td>Cell division is the process by which a parent...</td>\n",
       "    </tr>\n",
       "    <tr>\n",
       "      <th>4</th>\n",
       "      <td>0e63f8bea</td>\n",
       "      <td>https://en.wikipedia.org/wiki/Debugging</td>\n",
       "      <td>CC BY-SA 3.0</td>\n",
       "      <td>Debugging is the process of finding and resolv...</td>\n",
       "    </tr>\n",
       "  </tbody>\n",
       "</table>\n",
       "</div>"
      ],
      "text/plain": [
       "          id                                    url_legal       license  \\\n",
       "0  c0f722661                                          NaN           NaN   \n",
       "1  f0953f0a5                                          NaN           NaN   \n",
       "2  0df072751                                          NaN           NaN   \n",
       "3  04caf4e0c  https://en.wikipedia.org/wiki/Cell_division  CC BY-SA 3.0   \n",
       "4  0e63f8bea      https://en.wikipedia.org/wiki/Debugging  CC BY-SA 3.0   \n",
       "\n",
       "                                             excerpt  \n",
       "0  My hope lay in Jack's promise that he would ke...  \n",
       "1  Dotty continued to go to Mrs. Gray's every nig...  \n",
       "2  It was a bright and cheerful scene that greete...  \n",
       "3  Cell division is the process by which a parent...  \n",
       "4  Debugging is the process of finding and resolv...  "
      ]
     },
     "execution_count": 7,
     "metadata": {},
     "output_type": "execute_result"
    }
   ],
   "source": [
    "test_data.head()"
   ]
  },
  {
   "cell_type": "code",
   "execution_count": 8,
   "id": "fleet-length",
   "metadata": {
    "execution": {
     "iopub.execute_input": "2021-05-05T04:13:57.404095Z",
     "iopub.status.busy": "2021-05-05T04:13:57.403156Z",
     "iopub.status.idle": "2021-05-05T04:13:57.410944Z",
     "shell.execute_reply": "2021-05-05T04:13:57.411446Z"
    },
    "papermill": {
     "duration": 0.057354,
     "end_time": "2021-05-05T04:13:57.411630",
     "exception": false,
     "start_time": "2021-05-05T04:13:57.354276",
     "status": "completed"
    },
    "tags": []
   },
   "outputs": [],
   "source": [
    "train_data = train_data[['excerpt']]\n",
    "test_data = test_data[['excerpt']]"
   ]
  },
  {
   "cell_type": "code",
   "execution_count": 9,
   "id": "cordless-investing",
   "metadata": {
    "execution": {
     "iopub.execute_input": "2021-05-05T04:13:57.599923Z",
     "iopub.status.busy": "2021-05-05T04:13:57.598913Z",
     "iopub.status.idle": "2021-05-05T04:13:57.614544Z",
     "shell.execute_reply": "2021-05-05T04:13:57.615037Z"
    },
    "papermill": {
     "duration": 0.065009,
     "end_time": "2021-05-05T04:13:57.615241",
     "exception": false,
     "start_time": "2021-05-05T04:13:57.550232",
     "status": "completed"
    },
    "tags": []
   },
   "outputs": [],
   "source": [
    "train_data['excerpt_lower'] = train_data['excerpt'].str.lower()   # First we need to convert the given texts to string and then apply case conversion methods\n",
    "test_data['excerpt_lower'] = test_data['excerpt'].str.lower()"
   ]
  },
  {
   "cell_type": "code",
   "execution_count": 10,
   "id": "durable-cancellation",
   "metadata": {
    "execution": {
     "iopub.execute_input": "2021-05-05T04:13:57.717789Z",
     "iopub.status.busy": "2021-05-05T04:13:57.716778Z",
     "iopub.status.idle": "2021-05-05T04:13:57.720842Z",
     "shell.execute_reply": "2021-05-05T04:13:57.721333Z"
    },
    "papermill": {
     "duration": 0.06017,
     "end_time": "2021-05-05T04:13:57.721521",
     "exception": false,
     "start_time": "2021-05-05T04:13:57.661351",
     "status": "completed"
    },
    "tags": []
   },
   "outputs": [
    {
     "data": {
      "text/html": [
       "<div>\n",
       "<style scoped>\n",
       "    .dataframe tbody tr th:only-of-type {\n",
       "        vertical-align: middle;\n",
       "    }\n",
       "\n",
       "    .dataframe tbody tr th {\n",
       "        vertical-align: top;\n",
       "    }\n",
       "\n",
       "    .dataframe thead th {\n",
       "        text-align: right;\n",
       "    }\n",
       "</style>\n",
       "<table border=\"1\" class=\"dataframe\">\n",
       "  <thead>\n",
       "    <tr style=\"text-align: right;\">\n",
       "      <th></th>\n",
       "      <th>excerpt</th>\n",
       "      <th>excerpt_lower</th>\n",
       "    </tr>\n",
       "  </thead>\n",
       "  <tbody>\n",
       "    <tr>\n",
       "      <th>0</th>\n",
       "      <td>When the young people returned to the ballroom...</td>\n",
       "      <td>when the young people returned to the ballroom...</td>\n",
       "    </tr>\n",
       "    <tr>\n",
       "      <th>1</th>\n",
       "      <td>All through dinner time, Mrs. Fayre was somewh...</td>\n",
       "      <td>all through dinner time, mrs. fayre was somewh...</td>\n",
       "    </tr>\n",
       "    <tr>\n",
       "      <th>2</th>\n",
       "      <td>As Roger had predicted, the snow departed as q...</td>\n",
       "      <td>as roger had predicted, the snow departed as q...</td>\n",
       "    </tr>\n",
       "    <tr>\n",
       "      <th>3</th>\n",
       "      <td>And outside before the palace a great garden w...</td>\n",
       "      <td>and outside before the palace a great garden w...</td>\n",
       "    </tr>\n",
       "    <tr>\n",
       "      <th>4</th>\n",
       "      <td>Once upon a time there were Three Bears who li...</td>\n",
       "      <td>once upon a time there were three bears who li...</td>\n",
       "    </tr>\n",
       "  </tbody>\n",
       "</table>\n",
       "</div>"
      ],
      "text/plain": [
       "                                             excerpt  \\\n",
       "0  When the young people returned to the ballroom...   \n",
       "1  All through dinner time, Mrs. Fayre was somewh...   \n",
       "2  As Roger had predicted, the snow departed as q...   \n",
       "3  And outside before the palace a great garden w...   \n",
       "4  Once upon a time there were Three Bears who li...   \n",
       "\n",
       "                                       excerpt_lower  \n",
       "0  when the young people returned to the ballroom...  \n",
       "1  all through dinner time, mrs. fayre was somewh...  \n",
       "2  as roger had predicted, the snow departed as q...  \n",
       "3  and outside before the palace a great garden w...  \n",
       "4  once upon a time there were three bears who li...  "
      ]
     },
     "execution_count": 10,
     "metadata": {},
     "output_type": "execute_result"
    }
   ],
   "source": [
    "train_data.head()"
   ]
  },
  {
   "cell_type": "code",
   "execution_count": 11,
   "id": "great-laundry",
   "metadata": {
    "execution": {
     "iopub.execute_input": "2021-05-05T04:13:57.818296Z",
     "iopub.status.busy": "2021-05-05T04:13:57.817615Z",
     "iopub.status.idle": "2021-05-05T04:13:57.827547Z",
     "shell.execute_reply": "2021-05-05T04:13:57.826947Z"
    },
    "papermill": {
     "duration": 0.059227,
     "end_time": "2021-05-05T04:13:57.827726",
     "exception": false,
     "start_time": "2021-05-05T04:13:57.768499",
     "status": "completed"
    },
    "tags": []
   },
   "outputs": [
    {
     "data": {
      "text/html": [
       "<div>\n",
       "<style scoped>\n",
       "    .dataframe tbody tr th:only-of-type {\n",
       "        vertical-align: middle;\n",
       "    }\n",
       "\n",
       "    .dataframe tbody tr th {\n",
       "        vertical-align: top;\n",
       "    }\n",
       "\n",
       "    .dataframe thead th {\n",
       "        text-align: right;\n",
       "    }\n",
       "</style>\n",
       "<table border=\"1\" class=\"dataframe\">\n",
       "  <thead>\n",
       "    <tr style=\"text-align: right;\">\n",
       "      <th></th>\n",
       "      <th>excerpt</th>\n",
       "      <th>excerpt_lower</th>\n",
       "    </tr>\n",
       "  </thead>\n",
       "  <tbody>\n",
       "    <tr>\n",
       "      <th>0</th>\n",
       "      <td>My hope lay in Jack's promise that he would ke...</td>\n",
       "      <td>my hope lay in jack's promise that he would ke...</td>\n",
       "    </tr>\n",
       "    <tr>\n",
       "      <th>1</th>\n",
       "      <td>Dotty continued to go to Mrs. Gray's every nig...</td>\n",
       "      <td>dotty continued to go to mrs. gray's every nig...</td>\n",
       "    </tr>\n",
       "    <tr>\n",
       "      <th>2</th>\n",
       "      <td>It was a bright and cheerful scene that greete...</td>\n",
       "      <td>it was a bright and cheerful scene that greete...</td>\n",
       "    </tr>\n",
       "    <tr>\n",
       "      <th>3</th>\n",
       "      <td>Cell division is the process by which a parent...</td>\n",
       "      <td>cell division is the process by which a parent...</td>\n",
       "    </tr>\n",
       "    <tr>\n",
       "      <th>4</th>\n",
       "      <td>Debugging is the process of finding and resolv...</td>\n",
       "      <td>debugging is the process of finding and resolv...</td>\n",
       "    </tr>\n",
       "  </tbody>\n",
       "</table>\n",
       "</div>"
      ],
      "text/plain": [
       "                                             excerpt  \\\n",
       "0  My hope lay in Jack's promise that he would ke...   \n",
       "1  Dotty continued to go to Mrs. Gray's every nig...   \n",
       "2  It was a bright and cheerful scene that greete...   \n",
       "3  Cell division is the process by which a parent...   \n",
       "4  Debugging is the process of finding and resolv...   \n",
       "\n",
       "                                       excerpt_lower  \n",
       "0  my hope lay in jack's promise that he would ke...  \n",
       "1  dotty continued to go to mrs. gray's every nig...  \n",
       "2  it was a bright and cheerful scene that greete...  \n",
       "3  cell division is the process by which a parent...  \n",
       "4  debugging is the process of finding and resolv...  "
      ]
     },
     "execution_count": 11,
     "metadata": {},
     "output_type": "execute_result"
    }
   ],
   "source": [
    "test_data.head()"
   ]
  },
  {
   "cell_type": "code",
   "execution_count": 12,
   "id": "ordinary-calendar",
   "metadata": {
    "execution": {
     "iopub.execute_input": "2021-05-05T04:13:58.021979Z",
     "iopub.status.busy": "2021-05-05T04:13:58.021306Z",
     "iopub.status.idle": "2021-05-05T04:13:58.666130Z",
     "shell.execute_reply": "2021-05-05T04:13:58.665494Z"
    },
    "papermill": {
     "duration": 0.69721,
     "end_time": "2021-05-05T04:13:58.666270",
     "exception": false,
     "start_time": "2021-05-05T04:13:57.969060",
     "status": "completed"
    },
    "tags": []
   },
   "outputs": [
    {
     "name": "stdout",
     "output_type": "stream",
     "text": [
      " <body> level - not in <div> or <table>  */\r\n",
      "    text-align: justify;\r\n",
      "    /* or left?? */\r\n",
      "    text-indent: 1em;\r\n",
      "    /* first-line indent */\r\n",
      "    }\r\n",
      "/* suppress indentation on paragraphs following heads  */\r\n",
      "h2 + p, h3 + p, h4 + p {\r\n",
      "    text-indent: 0\r\n",
      "    }\r\n",
      "/* tighter spacing for list item paragraphs */\r\n",
      "dd, li {\r\n",
      "    margin-top: 0.25em;\r\n",
      "    margin-bottom: 0;\r\n",
      "    line-height: 1.2em;\r\n",
      "    /* a bit closer than p's */\r\n",
      "    }\r\n",
      "/* ************************************************************************\r\n",
      " * Head 2 is for chapter heads. \r\n",
      " * ********************************************************************** */\r\n",
      "h2 {\r\n",
      "    /* text-align:center;  left-aligned by default. */\r\n",
      "    margin-top: 3em;\r\n",
      "    /* extra space above.. */\r\n",
      "    margin-bottom: 2em;\r\n",
      "    /* ..and below */\r\n",
      "    clear: both;\r\n",
      "    /* don't let sidebars overlap */\r\n",
      "    }\r\n",
      "/* ************************************************************************\r\n",
      " * Head 3 is for main-topic heads.\r\n",
      " * ********************************************************************** */\r\n",
      "h3 {\r\n",
      "    /* text-align:center;  left-aligned by default. */\r\n",
      "    margin-top: 2em;\r\n",
      "    /* extra space above but not below */\r\n",
      "    font-weight: normal;\r\n",
      "    /* ove\n"
     ]
    }
   ],
   "source": [
    "import requests\n",
    "\n",
    "data = requests.get('http://www.gutenberg.org/cache/epub/8001/pg8001.html')\n",
    "content = data.text\n",
    "print(content[2745:3948])"
   ]
  },
  {
   "cell_type": "code",
   "execution_count": 13,
   "id": "civil-cinema",
   "metadata": {
    "execution": {
     "iopub.execute_input": "2021-05-05T04:14:09.753431Z",
     "iopub.status.busy": "2021-05-05T04:14:09.752441Z",
     "iopub.status.idle": "2021-05-05T04:14:10.151355Z",
     "shell.execute_reply": "2021-05-05T04:14:10.150664Z"
    },
    "papermill": {
     "duration": 0.458464,
     "end_time": "2021-05-05T04:14:10.151509",
     "exception": false,
     "start_time": "2021-05-05T04:14:09.693045",
     "status": "completed"
    },
    "tags": []
   },
   "outputs": [
    {
     "name": "stdout",
     "output_type": "stream",
     "text": [
      " darkness was\n",
      "           upon the face of the deep. And the Spirit of God moved upon\n",
      "           the face of the waters.\n",
      "01:001:003 And God said, Let there be light: and there was light.\n",
      "01:001:004 And God saw the light, that it was good: and God divided the\n",
      "           light from the darkness.\n",
      "01:001:005 And God called the light Day, and the darkness he called\n",
      "           Night. And the evening and the morning were the first day.\n",
      "01:001:006 And God said, Let there be a firmament in the midst of the\n",
      "           waters, and let it divide the waters from the waters.\n",
      "01:001:007 And God made the firmament, and divided the waters which were\n",
      "           under the firmament from the waters which were above the\n",
      "           firmament: and it was so.\n",
      "01:001:008 And God called the firmament Heaven. A\n"
     ]
    }
   ],
   "source": [
    "import re\n",
    "from bs4 import BeautifulSoup\n",
    "\n",
    "def strip_html_tags(text):\n",
    "    \"\"\"\n",
    "    This function will remove the HTML tags & noise from the scraped data.\n",
    "    \"\"\"\n",
    "    soup = BeautifulSoup(text, \"html.parser\")\n",
    "    [s.extract() for s in soup(['iframe', 'script'])]\n",
    "    stripped_text = soup.get_text()\n",
    "    stripped_text = re.sub(r'[\\r|\\n|\\r\\n]+', '\\n', stripped_text)\n",
    "    return stripped_text\n",
    "\n",
    "clean_content = strip_html_tags(content)\n",
    "print(clean_content[1163:1957])"
   ]
  },
  {
   "cell_type": "code",
   "execution_count": 14,
   "id": "conceptual-ethnic",
   "metadata": {
    "execution": {
     "iopub.execute_input": "2021-05-05T04:14:10.405260Z",
     "iopub.status.busy": "2021-05-05T04:14:10.394985Z",
     "iopub.status.idle": "2021-05-05T04:14:10.741485Z",
     "shell.execute_reply": "2021-05-05T04:14:10.740929Z"
    },
    "papermill": {
     "duration": 0.432184,
     "end_time": "2021-05-05T04:14:10.741633",
     "exception": false,
     "start_time": "2021-05-05T04:14:10.309449",
     "status": "completed"
    },
    "tags": []
   },
   "outputs": [],
   "source": [
    "train_data['excerpt_lower'] = train_data['excerpt_lower'].apply(strip_html_tags)\n",
    "test_data['excerpt_lower'] = test_data['excerpt_lower'].apply(strip_html_tags)"
   ]
  },
  {
   "cell_type": "code",
   "execution_count": 15,
   "id": "intellectual-airport",
   "metadata": {
    "execution": {
     "iopub.execute_input": "2021-05-05T04:14:10.957048Z",
     "iopub.status.busy": "2021-05-05T04:14:10.956406Z",
     "iopub.status.idle": "2021-05-05T04:14:10.958445Z",
     "shell.execute_reply": "2021-05-05T04:14:10.958902Z"
    },
    "papermill": {
     "duration": 0.060091,
     "end_time": "2021-05-05T04:14:10.959088",
     "exception": false,
     "start_time": "2021-05-05T04:14:10.898997",
     "status": "completed"
    },
    "tags": []
   },
   "outputs": [],
   "source": [
    "import unicodedata\n",
    "\n",
    "def remove_accented_chars(text):\n",
    "    text = unicodedata.normalize('NFKD', text).encode('ascii', 'ignore').decode('utf-8', 'ignore')\n",
    "    return text"
   ]
  },
  {
   "cell_type": "code",
   "execution_count": 16,
   "id": "public-karma",
   "metadata": {
    "execution": {
     "iopub.execute_input": "2021-05-05T04:14:11.068156Z",
     "iopub.status.busy": "2021-05-05T04:14:11.067524Z",
     "iopub.status.idle": "2021-05-05T04:14:11.072182Z",
     "shell.execute_reply": "2021-05-05T04:14:11.072762Z"
    },
    "papermill": {
     "duration": 0.060953,
     "end_time": "2021-05-05T04:14:11.072933",
     "exception": false,
     "start_time": "2021-05-05T04:14:11.011980",
     "status": "completed"
    },
    "tags": []
   },
   "outputs": [
    {
     "data": {
      "text/plain": [
       "'Sómě Áccěntěd těxt'"
      ]
     },
     "execution_count": 16,
     "metadata": {},
     "output_type": "execute_result"
    }
   ],
   "source": [
    "s = 'Sómě Áccěntěd těxt'\n",
    "s"
   ]
  },
  {
   "cell_type": "code",
   "execution_count": 17,
   "id": "dress-orientation",
   "metadata": {
    "execution": {
     "iopub.execute_input": "2021-05-05T04:14:11.183440Z",
     "iopub.status.busy": "2021-05-05T04:14:11.182749Z",
     "iopub.status.idle": "2021-05-05T04:14:11.188595Z",
     "shell.execute_reply": "2021-05-05T04:14:11.187996Z"
    },
    "papermill": {
     "duration": 0.062466,
     "end_time": "2021-05-05T04:14:11.188746",
     "exception": false,
     "start_time": "2021-05-05T04:14:11.126280",
     "status": "completed"
    },
    "tags": []
   },
   "outputs": [
    {
     "data": {
      "text/plain": [
       "'Some Accented text'"
      ]
     },
     "execution_count": 17,
     "metadata": {},
     "output_type": "execute_result"
    }
   ],
   "source": [
    "remove_accented_chars(s)"
   ]
  },
  {
   "cell_type": "code",
   "execution_count": 18,
   "id": "posted-start",
   "metadata": {
    "execution": {
     "iopub.execute_input": "2021-05-05T04:14:11.315451Z",
     "iopub.status.busy": "2021-05-05T04:14:11.310818Z",
     "iopub.status.idle": "2021-05-05T04:14:11.318012Z",
     "shell.execute_reply": "2021-05-05T04:14:11.318499Z"
    },
    "papermill": {
     "duration": 0.076281,
     "end_time": "2021-05-05T04:14:11.318678",
     "exception": false,
     "start_time": "2021-05-05T04:14:11.242397",
     "status": "completed"
    },
    "tags": []
   },
   "outputs": [],
   "source": [
    "train_data['excerpt_lower'] = train_data['excerpt_lower'].apply(remove_accented_chars)\n",
    "test_data['excerpt_lower'] = test_data['excerpt_lower'].apply(remove_accented_chars)"
   ]
  },
  {
   "cell_type": "code",
   "execution_count": 19,
   "id": "invisible-interval",
   "metadata": {
    "execution": {
     "iopub.execute_input": "2021-05-05T04:14:11.537409Z",
     "iopub.status.busy": "2021-05-05T04:14:11.536680Z",
     "iopub.status.idle": "2021-05-05T04:14:11.539882Z",
     "shell.execute_reply": "2021-05-05T04:14:11.539329Z"
    },
    "papermill": {
     "duration": 0.061556,
     "end_time": "2021-05-05T04:14:11.540027",
     "exception": false,
     "start_time": "2021-05-05T04:14:11.478471",
     "status": "completed"
    },
    "tags": []
   },
   "outputs": [],
   "source": [
    "import re\n",
    "\n",
    "def remove_special_characters(text, remove_digits=True):\n",
    "    pattern = r'[^a-zA-Z0-9\\s]' if not remove_digits else r'[^a-zA-Z\\s]'\n",
    "    text = re.sub(pattern, '', text)\n",
    "    return text"
   ]
  },
  {
   "cell_type": "code",
   "execution_count": 20,
   "id": "fantastic-salvation",
   "metadata": {
    "execution": {
     "iopub.execute_input": "2021-05-05T04:14:11.652590Z",
     "iopub.status.busy": "2021-05-05T04:14:11.651721Z",
     "iopub.status.idle": "2021-05-05T04:14:11.655632Z",
     "shell.execute_reply": "2021-05-05T04:14:11.655002Z"
    },
    "papermill": {
     "duration": 0.061979,
     "end_time": "2021-05-05T04:14:11.655764",
     "exception": false,
     "start_time": "2021-05-05T04:14:11.593785",
     "status": "completed"
    },
    "tags": []
   },
   "outputs": [
    {
     "data": {
      "text/plain": [
       "'Well this was fun! See you at 7:30, What do you think!!? #$@@9318@ 🙂🙂🙂'"
      ]
     },
     "execution_count": 20,
     "metadata": {},
     "output_type": "execute_result"
    }
   ],
   "source": [
    "s = \"Well this was fun! See you at 7:30, What do you think!!? #$@@9318@ 🙂🙂🙂\"\n",
    "s"
   ]
  },
  {
   "cell_type": "code",
   "execution_count": 21,
   "id": "experienced-preparation",
   "metadata": {
    "execution": {
     "iopub.execute_input": "2021-05-05T04:14:11.770218Z",
     "iopub.status.busy": "2021-05-05T04:14:11.769422Z",
     "iopub.status.idle": "2021-05-05T04:14:11.773572Z",
     "shell.execute_reply": "2021-05-05T04:14:11.772931Z"
    },
    "papermill": {
     "duration": 0.063609,
     "end_time": "2021-05-05T04:14:11.773707",
     "exception": false,
     "start_time": "2021-05-05T04:14:11.710098",
     "status": "completed"
    },
    "tags": []
   },
   "outputs": [
    {
     "data": {
      "text/plain": [
       "'Well this was fun See you at 730 What do you think 9318 '"
      ]
     },
     "execution_count": 21,
     "metadata": {},
     "output_type": "execute_result"
    }
   ],
   "source": [
    "remove_special_characters(s, remove_digits=False)"
   ]
  },
  {
   "cell_type": "code",
   "execution_count": 22,
   "id": "sought-blogger",
   "metadata": {
    "execution": {
     "iopub.execute_input": "2021-05-05T04:14:11.889467Z",
     "iopub.status.busy": "2021-05-05T04:14:11.888572Z",
     "iopub.status.idle": "2021-05-05T04:14:11.891938Z",
     "shell.execute_reply": "2021-05-05T04:14:11.892562Z"
    },
    "papermill": {
     "duration": 0.064188,
     "end_time": "2021-05-05T04:14:11.892729",
     "exception": false,
     "start_time": "2021-05-05T04:14:11.828541",
     "status": "completed"
    },
    "tags": []
   },
   "outputs": [
    {
     "data": {
      "text/plain": [
       "'Well this was fun See you at  What do you think  '"
      ]
     },
     "execution_count": 22,
     "metadata": {},
     "output_type": "execute_result"
    }
   ],
   "source": [
    "remove_special_characters(s)"
   ]
  },
  {
   "cell_type": "code",
   "execution_count": 23,
   "id": "dutch-viewer",
   "metadata": {
    "execution": {
     "iopub.execute_input": "2021-05-05T04:14:12.006263Z",
     "iopub.status.busy": "2021-05-05T04:14:12.005279Z",
     "iopub.status.idle": "2021-05-05T04:14:12.129887Z",
     "shell.execute_reply": "2021-05-05T04:14:12.129336Z"
    },
    "papermill": {
     "duration": 0.182449,
     "end_time": "2021-05-05T04:14:12.130040",
     "exception": false,
     "start_time": "2021-05-05T04:14:11.947591",
     "status": "completed"
    },
    "tags": []
   },
   "outputs": [],
   "source": [
    "train_data['excerpt_lower'] = train_data['excerpt_lower'].apply(remove_special_characters)\n",
    "test_data['excerpt_lower'] = test_data['excerpt_lower'].apply(remove_special_characters)"
   ]
  },
  {
   "cell_type": "code",
   "execution_count": 24,
   "id": "eligible-ecology",
   "metadata": {
    "execution": {
     "iopub.execute_input": "2021-05-05T04:14:30.584413Z",
     "iopub.status.busy": "2021-05-05T04:14:30.583732Z",
     "iopub.status.idle": "2021-05-05T04:14:30.586650Z",
     "shell.execute_reply": "2021-05-05T04:14:30.587155Z"
    },
    "papermill": {
     "duration": 0.070783,
     "end_time": "2021-05-05T04:14:30.587316",
     "exception": false,
     "start_time": "2021-05-05T04:14:30.516533",
     "status": "completed"
    },
    "tags": []
   },
   "outputs": [
    {
     "data": {
      "text/plain": [
       "\"Y'all can't expand contractions I'd think! You wouldn't be able to. How'd you do it?\""
      ]
     },
     "execution_count": 24,
     "metadata": {},
     "output_type": "execute_result"
    }
   ],
   "source": [
    "s = \"Y'all can't expand contractions I'd think! You wouldn't be able to. How'd you do it?\"\n",
    "s"
   ]
  },
  {
   "cell_type": "code",
   "execution_count": 25,
   "id": "musical-agriculture",
   "metadata": {
    "execution": {
     "iopub.execute_input": "2021-05-05T04:14:30.717070Z",
     "iopub.status.busy": "2021-05-05T04:14:30.716443Z",
     "iopub.status.idle": "2021-05-05T04:14:30.732380Z",
     "shell.execute_reply": "2021-05-05T04:14:30.732828Z"
    },
    "papermill": {
     "duration": 0.083221,
     "end_time": "2021-05-05T04:14:30.733011",
     "exception": false,
     "start_time": "2021-05-05T04:14:30.649790",
     "status": "completed"
    },
    "tags": []
   },
   "outputs": [
    {
     "data": {
      "text/plain": [
       "[(\"I'm\", 'I am'),\n",
       " (\"I'm'a\", 'I am about to'),\n",
       " (\"I'm'o\", 'I am going to'),\n",
       " (\"I've\", 'I have'),\n",
       " (\"I'll\", 'I will'),\n",
       " (\"I'll've\", 'I will have'),\n",
       " (\"I'd\", 'I would'),\n",
       " (\"I'd've\", 'I would have'),\n",
       " ('Whatcha', 'What are you'),\n",
       " (\"amn't\", 'am not')]"
      ]
     },
     "execution_count": 25,
     "metadata": {},
     "output_type": "execute_result"
    }
   ],
   "source": [
    "import contractions\n",
    "\n",
    "list(contractions.contractions_dict.items())[:10]"
   ]
  },
  {
   "cell_type": "code",
   "execution_count": 26,
   "id": "closed-swimming",
   "metadata": {
    "execution": {
     "iopub.execute_input": "2021-05-05T04:14:30.864492Z",
     "iopub.status.busy": "2021-05-05T04:14:30.863574Z",
     "iopub.status.idle": "2021-05-05T04:14:30.868190Z",
     "shell.execute_reply": "2021-05-05T04:14:30.867563Z"
    },
    "papermill": {
     "duration": 0.072577,
     "end_time": "2021-05-05T04:14:30.868326",
     "exception": false,
     "start_time": "2021-05-05T04:14:30.795749",
     "status": "completed"
    },
    "tags": []
   },
   "outputs": [
    {
     "data": {
      "text/plain": [
       "'You all cannot expand contractions I would think! You would not be able to. How did you do it?'"
      ]
     },
     "execution_count": 26,
     "metadata": {},
     "output_type": "execute_result"
    }
   ],
   "source": [
    "contractions.fix(s)"
   ]
  },
  {
   "cell_type": "code",
   "execution_count": 27,
   "id": "early-generic",
   "metadata": {
    "execution": {
     "iopub.execute_input": "2021-05-05T04:14:31.016674Z",
     "iopub.status.busy": "2021-05-05T04:14:31.011808Z",
     "iopub.status.idle": "2021-05-05T04:14:31.372319Z",
     "shell.execute_reply": "2021-05-05T04:14:31.371769Z"
    },
    "papermill": {
     "duration": 0.440581,
     "end_time": "2021-05-05T04:14:31.372465",
     "exception": false,
     "start_time": "2021-05-05T04:14:30.931884",
     "status": "completed"
    },
    "tags": []
   },
   "outputs": [],
   "source": [
    "train_data['excerpt_lower'] = train_data['excerpt_lower'].apply(contractions.fix)\n",
    "test_data['excerpt_lower'] = test_data['excerpt_lower'].apply(contractions.fix)"
   ]
  },
  {
   "cell_type": "code",
   "execution_count": 28,
   "id": "painful-idaho",
   "metadata": {
    "execution": {
     "iopub.execute_input": "2021-05-05T04:14:31.631233Z",
     "iopub.status.busy": "2021-05-05T04:14:31.630573Z",
     "iopub.status.idle": "2021-05-05T04:14:31.634142Z",
     "shell.execute_reply": "2021-05-05T04:14:31.633531Z"
    },
    "papermill": {
     "duration": 0.072306,
     "end_time": "2021-05-05T04:14:31.634279",
     "exception": false,
     "start_time": "2021-05-05T04:14:31.561973",
     "status": "completed"
    },
    "tags": []
   },
   "outputs": [
    {
     "data": {
      "text/plain": [
       "('jump', 'jump', 'jump')"
      ]
     },
     "execution_count": 28,
     "metadata": {},
     "output_type": "execute_result"
    }
   ],
   "source": [
    "# Porter Stemmer\n",
    "from nltk.stem import PorterStemmer\n",
    "ps = PorterStemmer()\n",
    "\n",
    "ps.stem('jumping'), ps.stem('jumps'), ps.stem('jumped')"
   ]
  },
  {
   "cell_type": "code",
   "execution_count": 29,
   "id": "quality-interpretation",
   "metadata": {
    "execution": {
     "iopub.execute_input": "2021-05-05T04:14:31.767056Z",
     "iopub.status.busy": "2021-05-05T04:14:31.766433Z",
     "iopub.status.idle": "2021-05-05T04:14:31.770809Z",
     "shell.execute_reply": "2021-05-05T04:14:31.770175Z"
    },
    "papermill": {
     "duration": 0.072504,
     "end_time": "2021-05-05T04:14:31.770943",
     "exception": false,
     "start_time": "2021-05-05T04:14:31.698439",
     "status": "completed"
    },
    "tags": []
   },
   "outputs": [
    {
     "data": {
      "text/plain": [
       "'lie'"
      ]
     },
     "execution_count": 29,
     "metadata": {},
     "output_type": "execute_result"
    }
   ],
   "source": [
    "ps.stem('lying')"
   ]
  },
  {
   "cell_type": "code",
   "execution_count": 30,
   "id": "rapid-basement",
   "metadata": {
    "execution": {
     "iopub.execute_input": "2021-05-05T04:14:31.905533Z",
     "iopub.status.busy": "2021-05-05T04:14:31.904838Z",
     "iopub.status.idle": "2021-05-05T04:14:31.909403Z",
     "shell.execute_reply": "2021-05-05T04:14:31.909850Z"
    },
    "papermill": {
     "duration": 0.074352,
     "end_time": "2021-05-05T04:14:31.910032",
     "exception": false,
     "start_time": "2021-05-05T04:14:31.835680",
     "status": "completed"
    },
    "tags": []
   },
   "outputs": [
    {
     "data": {
      "text/plain": [
       "'strang'"
      ]
     },
     "execution_count": 30,
     "metadata": {},
     "output_type": "execute_result"
    }
   ],
   "source": [
    "\n",
    "ps.stem('strange')"
   ]
  },
  {
   "cell_type": "code",
   "execution_count": 31,
   "id": "forty-import",
   "metadata": {
    "execution": {
     "iopub.execute_input": "2021-05-05T04:14:32.098074Z",
     "iopub.status.busy": "2021-05-05T04:14:32.082548Z",
     "iopub.status.idle": "2021-05-05T04:14:32.882934Z",
     "shell.execute_reply": "2021-05-05T04:14:32.881853Z"
    },
    "papermill": {
     "duration": 0.907773,
     "end_time": "2021-05-05T04:14:32.883087",
     "exception": false,
     "start_time": "2021-05-05T04:14:31.975314",
     "status": "completed"
    },
    "tags": []
   },
   "outputs": [],
   "source": [
    "train_data['excerpt_lower'] = train_data['excerpt_lower'].apply(ps.stem)\n",
    "test_data['excerpt_lower'] = test_data['excerpt_lower'].apply(ps.stem)"
   ]
  },
  {
   "cell_type": "code",
   "execution_count": 41,
   "id": "touched-presence",
   "metadata": {
    "execution": {
     "iopub.execute_input": "2021-05-05T04:14:33.148719Z",
     "iopub.status.busy": "2021-05-05T04:14:33.148021Z",
     "iopub.status.idle": "2021-05-05T04:14:33.150061Z",
     "shell.execute_reply": "2021-05-05T04:14:33.150571Z"
    },
    "papermill": {
     "duration": 0.072276,
     "end_time": "2021-05-05T04:14:33.150737",
     "exception": false,
     "start_time": "2021-05-05T04:14:33.078461",
     "status": "completed"
    },
    "tags": []
   },
   "outputs": [],
   "source": [
    "from nltk.stem import WordNetLemmatizer\n",
    "wnl = WordNetLemmatizer()"
   ]
  },
  {
   "cell_type": "code",
   "execution_count": 42,
   "id": "aggressive-motor",
   "metadata": {
    "execution": {
     "iopub.execute_input": "2021-05-05T04:14:33.286623Z",
     "iopub.status.busy": "2021-05-05T04:14:33.285912Z",
     "iopub.status.idle": "2021-05-05T04:14:33.292138Z",
     "shell.execute_reply": "2021-05-05T04:14:33.292640Z"
    },
    "papermill": {
     "duration": 0.076291,
     "end_time": "2021-05-05T04:14:33.292810",
     "exception": false,
     "start_time": "2021-05-05T04:14:33.216519",
     "status": "completed"
    },
    "tags": []
   },
   "outputs": [
    {
     "name": "stdout",
     "output_type": "stream",
     "text": [
      "Help on method lemmatize in module nltk.stem.wordnet:\n",
      "\n",
      "lemmatize(word: str, pos: str = 'n') -> str method of nltk.stem.wordnet.WordNetLemmatizer instance\n",
      "    Lemmatize `word` using WordNet's built-in morphy function.\n",
      "    Returns the input word unchanged if it cannot be found in WordNet.\n",
      "    \n",
      "    :param word: The input word to lemmatize.\n",
      "    :type word: str\n",
      "    :param pos: The Part Of Speech tag. Valid options are `\"n\"` for nouns,\n",
      "        `\"v\"` for verbs, `\"a\"` for adjectives, `\"r\"` for adverbs and `\"s\"`\n",
      "        for satellite adjectives.\n",
      "    :param pos: str\n",
      "    :return: The lemma of `word`, for the given `pos`.\n",
      "\n"
     ]
    }
   ],
   "source": [
    "help(wnl.lemmatize)"
   ]
  },
  {
   "cell_type": "code",
   "execution_count": 44,
   "id": "floral-mining",
   "metadata": {
    "execution": {
     "iopub.execute_input": "2021-05-05T04:14:33.430452Z",
     "iopub.status.busy": "2021-05-05T04:14:33.427891Z",
     "iopub.status.idle": "2021-05-05T04:14:35.567379Z",
     "shell.execute_reply": "2021-05-05T04:14:35.566767Z"
    },
    "papermill": {
     "duration": 2.207763,
     "end_time": "2021-05-05T04:14:35.567538",
     "exception": false,
     "start_time": "2021-05-05T04:14:33.359775",
     "status": "completed"
    },
    "tags": []
   },
   "outputs": [
    {
     "name": "stdout",
     "output_type": "stream",
     "text": [
      "<bound method WordNetLemmatizer.lemmatize of <WordNetLemmatizer>>\n"
     ]
    }
   ],
   "source": [
    "# lemmatize nouns\n",
    "print(wnl.lemmatize)\n",
    "#print(wnl.lemmatize('cars', 'n'))\n",
    "#print(wnl.lemmatize('boxes', 'n'))"
   ]
  },
  {
   "cell_type": "code",
   "execution_count": null,
   "id": "initial-willow",
   "metadata": {
    "execution": {
     "iopub.execute_input": "2021-05-05T04:14:35.992612Z",
     "iopub.status.busy": "2021-05-05T04:14:35.991966Z",
     "iopub.status.idle": "2021-05-05T04:14:36.010898Z",
     "shell.execute_reply": "2021-05-05T04:14:36.010365Z"
    },
    "papermill": {
     "duration": 0.086948,
     "end_time": "2021-05-05T04:14:36.011043",
     "exception": false,
     "start_time": "2021-05-05T04:14:35.924095",
     "status": "completed"
    },
    "tags": []
   },
   "outputs": [],
   "source": [
    "s = 'The brown foxes are quick and they are jumping over the sleeping lazy dogs!'\n",
    "tokens = nltk.word_tokenize(s)\n",
    "print(tokens)"
   ]
  },
  {
   "cell_type": "code",
   "execution_count": null,
   "id": "psychological-empire",
   "metadata": {
    "execution": {
     "iopub.execute_input": "2021-05-05T04:14:36.195844Z",
     "iopub.status.busy": "2021-05-05T04:14:36.174935Z",
     "iopub.status.idle": "2021-05-05T04:14:40.290935Z",
     "shell.execute_reply": "2021-05-05T04:14:40.290058Z"
    },
    "papermill": {
     "duration": 4.213643,
     "end_time": "2021-05-05T04:14:40.291154",
     "exception": false,
     "start_time": "2021-05-05T04:14:36.077511",
     "status": "completed"
    },
    "tags": []
   },
   "outputs": [],
   "source": [
    "train_data['excerpt_lower'] = train_data['excerpt_lower'].apply(nltk.word_tokenize)\n",
    "test_data['excerpt_lower'] = test_data['excerpt_lower'].apply(nltk.word_tokenize)"
   ]
  },
  {
   "cell_type": "code",
   "execution_count": 38,
   "id": "serial-check",
   "metadata": {
    "execution": {
     "iopub.execute_input": "2021-05-05T04:14:40.574944Z",
     "iopub.status.busy": "2021-05-05T04:14:40.574043Z",
     "iopub.status.idle": "2021-05-05T04:14:40.596039Z",
     "shell.execute_reply": "2021-05-05T04:14:40.595369Z"
    },
    "papermill": {
     "duration": 0.093516,
     "end_time": "2021-05-05T04:14:40.596219",
     "exception": false,
     "start_time": "2021-05-05T04:14:40.502703",
     "status": "completed"
    },
    "tags": []
   },
   "outputs": [
    {
     "data": {
      "text/plain": [
       "\"i, me, my, myself, we, our, ours, ourselves, you, you're, you've, you'll, you'd, your, yours, yourself, yourselves, he, him, his, himself, she, she's, her, hers, herself, it, it's, its, itself, they, them, their, theirs, themselves, what, which, who, whom, this, that, that'll, these, those, am, is, are, was, were, be, been, being, have, has, had, having, do, does, did, doing, a, an, the, and, but, if, or, because, as, until, while, of, at, by, for, with, about, against, between, into, through, during, before, after, above, below, to, from, up, down, in, out, on, off, over, under, again, further, then, once, here, there, when, where, why, how, all, any, both, each, few, more, most, other, some, such, no, nor, not, only, own, same, so, than, too, very, s, t, can, will, just, don, don't, should, should've, now, d, ll, m, o, re, ve, y, ain, aren, aren't, couldn, couldn't, didn, didn't, doesn, doesn't, hadn, hadn't, hasn, hasn't, haven, haven't, isn, isn't, ma, mightn, mightn't, mustn, mustn't, needn, needn't, shan, shan't, shouldn, shouldn't, wasn, wasn't, weren, weren't, won, won't, wouldn, wouldn't\""
      ]
     },
     "execution_count": 38,
     "metadata": {},
     "output_type": "execute_result"
    }
   ],
   "source": [
    "from nltk.corpus import stopwords\n",
    "\", \".join(stopwords.words('english'))"
   ]
  },
  {
   "cell_type": "code",
   "execution_count": 39,
   "id": "introductory-cheese",
   "metadata": {
    "execution": {
     "iopub.execute_input": "2021-05-05T04:14:40.750953Z",
     "iopub.status.busy": "2021-05-05T04:14:40.745594Z",
     "iopub.status.idle": "2021-05-05T04:14:40.926363Z",
     "shell.execute_reply": "2021-05-05T04:14:40.925679Z"
    },
    "papermill": {
     "duration": 0.262011,
     "end_time": "2021-05-05T04:14:40.926506",
     "exception": false,
     "start_time": "2021-05-05T04:14:40.664495",
     "status": "completed"
    },
    "tags": []
   },
   "outputs": [],
   "source": [
    "STOPWORDS = set(stopwords.words('english'))\n",
    "def remove_stopwords(text):\n",
    "    \"\"\"custom function to remove the stopwords\"\"\"\n",
    "    return \" \".join([word for word in str(text).split() if word not in STOPWORDS])\n",
    "\n",
    "train_data[\"excerpt_lower\"] = train_data[\"excerpt_lower\"].apply(lambda text: remove_stopwords(text))\n",
    "test_data[\"excerpt_lower\"] = test_data[\"excerpt_lower\"].apply(lambda text: remove_stopwords(text))"
   ]
  },
  {
   "cell_type": "code",
   "execution_count": null,
   "id": "8d198afe",
   "metadata": {},
   "outputs": [],
   "source": []
  }
 ],
 "metadata": {
  "kernelspec": {
   "display_name": "Python 3 (ipykernel)",
   "language": "python",
   "name": "python3"
  },
  "language_info": {
   "codemirror_mode": {
    "name": "ipython",
    "version": 3
   },
   "file_extension": ".py",
   "mimetype": "text/x-python",
   "name": "python",
   "nbconvert_exporter": "python",
   "pygments_lexer": "ipython3",
   "version": "3.11.0"
  },
  "papermill": {
   "default_parameters": {},
   "duration": 55.681285,
   "end_time": "2021-05-05T04:14:42.142559",
   "environment_variables": {},
   "exception": null,
   "input_path": "__notebook__.ipynb",
   "output_path": "__notebook__.ipynb",
   "parameters": {},
   "start_time": "2021-05-05T04:13:46.461274",
   "version": "2.3.3"
  }
 },
 "nbformat": 4,
 "nbformat_minor": 5
}
